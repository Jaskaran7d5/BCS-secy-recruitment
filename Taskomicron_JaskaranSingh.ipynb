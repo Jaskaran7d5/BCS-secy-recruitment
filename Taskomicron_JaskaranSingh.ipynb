{
  "nbformat": 4,
  "nbformat_minor": 0,
  "metadata": {
    "colab": {
      "provenance": [],
      "mount_file_id": "1lobGGbM5q_U9TfGk4h3s6-6ZRD3XBKB5",
      "authorship_tag": "ABX9TyOXu/h+7NoaIw4z1GHVW2ku",
      "include_colab_link": true
    },
    "kernelspec": {
      "name": "python3",
      "display_name": "Python 3"
    },
    "language_info": {
      "name": "python"
    }
  },
  "cells": [
    {
      "cell_type": "markdown",
      "metadata": {
        "id": "view-in-github",
        "colab_type": "text"
      },
      "source": [
        "<a href=\"https://colab.research.google.com/github/Jaskaran7d5/BCS-secy-recruitment/blob/main/Taskomicron_JaskaranSingh.ipynb\" target=\"_parent\"><img src=\"https://colab.research.google.com/assets/colab-badge.svg\" alt=\"Open In Colab\"/></a>"
      ]
    },
    {
      "cell_type": "markdown",
      "source": [
        "Logistic regression to predict if you will have heart disease in the next ten years"
      ],
      "metadata": {
        "id": "hrsxkg_0nvTh"
      }
    },
    {
      "cell_type": "code",
      "execution_count": 1,
      "metadata": {
        "id": "-Ir8tXuW-Vl7"
      },
      "outputs": [],
      "source": [
        "# Importing required libraries\n",
        "import pandas as pd\n",
        "import numpy as np\n",
        "import matplotlib.pyplot as plt\n",
        "from sklearn.model_selection import train_test_split\n"
      ]
    },
    {
      "cell_type": "code",
      "source": [
        "from google.colab import drive\n",
        "drive.mount('/content/drive')"
      ],
      "metadata": {
        "colab": {
          "base_uri": "https://localhost:8080/"
        },
        "id": "W29qy3Tt25Hd",
        "outputId": "58106714-bf17-4e69-9082-bb8d198be23c"
      },
      "execution_count": 2,
      "outputs": [
        {
          "output_type": "stream",
          "name": "stdout",
          "text": [
            "Drive already mounted at /content/drive; to attempt to forcibly remount, call drive.mount(\"/content/drive\", force_remount=True).\n"
          ]
        }
      ]
    },
    {
      "cell_type": "code",
      "source": [
        "df = pd.read_csv(\"/content/drive/MyDrive/framingham.csv\")"
      ],
      "metadata": {
        "id": "HE8yRFdK_n1m"
      },
      "execution_count": 3,
      "outputs": []
    },
    {
      "cell_type": "code",
      "source": [
        "print(\"(No of rows, No of Columns) = \",df.shape)\n",
        "df.head()"
      ],
      "metadata": {
        "colab": {
          "base_uri": "https://localhost:8080/",
          "height": 244
        },
        "id": "1bsRkHC0Akj1",
        "outputId": "cf484be8-e8ee-4bcb-ef60-0d7de6b9a22d"
      },
      "execution_count": 4,
      "outputs": [
        {
          "output_type": "stream",
          "name": "stdout",
          "text": [
            "(No of rows, No of Columns) =  (4238, 16)\n"
          ]
        },
        {
          "output_type": "execute_result",
          "data": {
            "text/plain": [
              "   male  age  education  currentSmoker  cigsPerDay  BPMeds  prevalentStroke  \\\n",
              "0     1   39        4.0              0         0.0     0.0                0   \n",
              "1     0   46        2.0              0         0.0     0.0                0   \n",
              "2     1   48        1.0              1        20.0     0.0                0   \n",
              "3     0   61        3.0              1        30.0     0.0                0   \n",
              "4     0   46        3.0              1        23.0     0.0                0   \n",
              "\n",
              "   prevalentHyp  diabetes  totChol  sysBP  diaBP    BMI  heartRate  glucose  \\\n",
              "0             0         0    195.0  106.0   70.0  26.97       80.0     77.0   \n",
              "1             0         0    250.0  121.0   81.0  28.73       95.0     76.0   \n",
              "2             0         0    245.0  127.5   80.0  25.34       75.0     70.0   \n",
              "3             1         0    225.0  150.0   95.0  28.58       65.0    103.0   \n",
              "4             0         0    285.0  130.0   84.0  23.10       85.0     85.0   \n",
              "\n",
              "   TenYearCHD  \n",
              "0           0  \n",
              "1           0  \n",
              "2           0  \n",
              "3           1  \n",
              "4           0  "
            ],
            "text/html": [
              "\n",
              "  <div id=\"df-8e9b8c68-2959-4f41-8a64-291cea5b9a4b\" class=\"colab-df-container\">\n",
              "    <div>\n",
              "<style scoped>\n",
              "    .dataframe tbody tr th:only-of-type {\n",
              "        vertical-align: middle;\n",
              "    }\n",
              "\n",
              "    .dataframe tbody tr th {\n",
              "        vertical-align: top;\n",
              "    }\n",
              "\n",
              "    .dataframe thead th {\n",
              "        text-align: right;\n",
              "    }\n",
              "</style>\n",
              "<table border=\"1\" class=\"dataframe\">\n",
              "  <thead>\n",
              "    <tr style=\"text-align: right;\">\n",
              "      <th></th>\n",
              "      <th>male</th>\n",
              "      <th>age</th>\n",
              "      <th>education</th>\n",
              "      <th>currentSmoker</th>\n",
              "      <th>cigsPerDay</th>\n",
              "      <th>BPMeds</th>\n",
              "      <th>prevalentStroke</th>\n",
              "      <th>prevalentHyp</th>\n",
              "      <th>diabetes</th>\n",
              "      <th>totChol</th>\n",
              "      <th>sysBP</th>\n",
              "      <th>diaBP</th>\n",
              "      <th>BMI</th>\n",
              "      <th>heartRate</th>\n",
              "      <th>glucose</th>\n",
              "      <th>TenYearCHD</th>\n",
              "    </tr>\n",
              "  </thead>\n",
              "  <tbody>\n",
              "    <tr>\n",
              "      <th>0</th>\n",
              "      <td>1</td>\n",
              "      <td>39</td>\n",
              "      <td>4.0</td>\n",
              "      <td>0</td>\n",
              "      <td>0.0</td>\n",
              "      <td>0.0</td>\n",
              "      <td>0</td>\n",
              "      <td>0</td>\n",
              "      <td>0</td>\n",
              "      <td>195.0</td>\n",
              "      <td>106.0</td>\n",
              "      <td>70.0</td>\n",
              "      <td>26.97</td>\n",
              "      <td>80.0</td>\n",
              "      <td>77.0</td>\n",
              "      <td>0</td>\n",
              "    </tr>\n",
              "    <tr>\n",
              "      <th>1</th>\n",
              "      <td>0</td>\n",
              "      <td>46</td>\n",
              "      <td>2.0</td>\n",
              "      <td>0</td>\n",
              "      <td>0.0</td>\n",
              "      <td>0.0</td>\n",
              "      <td>0</td>\n",
              "      <td>0</td>\n",
              "      <td>0</td>\n",
              "      <td>250.0</td>\n",
              "      <td>121.0</td>\n",
              "      <td>81.0</td>\n",
              "      <td>28.73</td>\n",
              "      <td>95.0</td>\n",
              "      <td>76.0</td>\n",
              "      <td>0</td>\n",
              "    </tr>\n",
              "    <tr>\n",
              "      <th>2</th>\n",
              "      <td>1</td>\n",
              "      <td>48</td>\n",
              "      <td>1.0</td>\n",
              "      <td>1</td>\n",
              "      <td>20.0</td>\n",
              "      <td>0.0</td>\n",
              "      <td>0</td>\n",
              "      <td>0</td>\n",
              "      <td>0</td>\n",
              "      <td>245.0</td>\n",
              "      <td>127.5</td>\n",
              "      <td>80.0</td>\n",
              "      <td>25.34</td>\n",
              "      <td>75.0</td>\n",
              "      <td>70.0</td>\n",
              "      <td>0</td>\n",
              "    </tr>\n",
              "    <tr>\n",
              "      <th>3</th>\n",
              "      <td>0</td>\n",
              "      <td>61</td>\n",
              "      <td>3.0</td>\n",
              "      <td>1</td>\n",
              "      <td>30.0</td>\n",
              "      <td>0.0</td>\n",
              "      <td>0</td>\n",
              "      <td>1</td>\n",
              "      <td>0</td>\n",
              "      <td>225.0</td>\n",
              "      <td>150.0</td>\n",
              "      <td>95.0</td>\n",
              "      <td>28.58</td>\n",
              "      <td>65.0</td>\n",
              "      <td>103.0</td>\n",
              "      <td>1</td>\n",
              "    </tr>\n",
              "    <tr>\n",
              "      <th>4</th>\n",
              "      <td>0</td>\n",
              "      <td>46</td>\n",
              "      <td>3.0</td>\n",
              "      <td>1</td>\n",
              "      <td>23.0</td>\n",
              "      <td>0.0</td>\n",
              "      <td>0</td>\n",
              "      <td>0</td>\n",
              "      <td>0</td>\n",
              "      <td>285.0</td>\n",
              "      <td>130.0</td>\n",
              "      <td>84.0</td>\n",
              "      <td>23.10</td>\n",
              "      <td>85.0</td>\n",
              "      <td>85.0</td>\n",
              "      <td>0</td>\n",
              "    </tr>\n",
              "  </tbody>\n",
              "</table>\n",
              "</div>\n",
              "    <div class=\"colab-df-buttons\">\n",
              "\n",
              "  <div class=\"colab-df-container\">\n",
              "    <button class=\"colab-df-convert\" onclick=\"convertToInteractive('df-8e9b8c68-2959-4f41-8a64-291cea5b9a4b')\"\n",
              "            title=\"Convert this dataframe to an interactive table.\"\n",
              "            style=\"display:none;\">\n",
              "\n",
              "  <svg xmlns=\"http://www.w3.org/2000/svg\" height=\"24px\" viewBox=\"0 -960 960 960\">\n",
              "    <path d=\"M120-120v-720h720v720H120Zm60-500h600v-160H180v160Zm220 220h160v-160H400v160Zm0 220h160v-160H400v160ZM180-400h160v-160H180v160Zm440 0h160v-160H620v160ZM180-180h160v-160H180v160Zm440 0h160v-160H620v160Z\"/>\n",
              "  </svg>\n",
              "    </button>\n",
              "\n",
              "  <style>\n",
              "    .colab-df-container {\n",
              "      display:flex;\n",
              "      gap: 12px;\n",
              "    }\n",
              "\n",
              "    .colab-df-convert {\n",
              "      background-color: #E8F0FE;\n",
              "      border: none;\n",
              "      border-radius: 50%;\n",
              "      cursor: pointer;\n",
              "      display: none;\n",
              "      fill: #1967D2;\n",
              "      height: 32px;\n",
              "      padding: 0 0 0 0;\n",
              "      width: 32px;\n",
              "    }\n",
              "\n",
              "    .colab-df-convert:hover {\n",
              "      background-color: #E2EBFA;\n",
              "      box-shadow: 0px 1px 2px rgba(60, 64, 67, 0.3), 0px 1px 3px 1px rgba(60, 64, 67, 0.15);\n",
              "      fill: #174EA6;\n",
              "    }\n",
              "\n",
              "    .colab-df-buttons div {\n",
              "      margin-bottom: 4px;\n",
              "    }\n",
              "\n",
              "    [theme=dark] .colab-df-convert {\n",
              "      background-color: #3B4455;\n",
              "      fill: #D2E3FC;\n",
              "    }\n",
              "\n",
              "    [theme=dark] .colab-df-convert:hover {\n",
              "      background-color: #434B5C;\n",
              "      box-shadow: 0px 1px 3px 1px rgba(0, 0, 0, 0.15);\n",
              "      filter: drop-shadow(0px 1px 2px rgba(0, 0, 0, 0.3));\n",
              "      fill: #FFFFFF;\n",
              "    }\n",
              "  </style>\n",
              "\n",
              "    <script>\n",
              "      const buttonEl =\n",
              "        document.querySelector('#df-8e9b8c68-2959-4f41-8a64-291cea5b9a4b button.colab-df-convert');\n",
              "      buttonEl.style.display =\n",
              "        google.colab.kernel.accessAllowed ? 'block' : 'none';\n",
              "\n",
              "      async function convertToInteractive(key) {\n",
              "        const element = document.querySelector('#df-8e9b8c68-2959-4f41-8a64-291cea5b9a4b');\n",
              "        const dataTable =\n",
              "          await google.colab.kernel.invokeFunction('convertToInteractive',\n",
              "                                                    [key], {});\n",
              "        if (!dataTable) return;\n",
              "\n",
              "        const docLinkHtml = 'Like what you see? Visit the ' +\n",
              "          '<a target=\"_blank\" href=https://colab.research.google.com/notebooks/data_table.ipynb>data table notebook</a>'\n",
              "          + ' to learn more about interactive tables.';\n",
              "        element.innerHTML = '';\n",
              "        dataTable['output_type'] = 'display_data';\n",
              "        await google.colab.output.renderOutput(dataTable, element);\n",
              "        const docLink = document.createElement('div');\n",
              "        docLink.innerHTML = docLinkHtml;\n",
              "        element.appendChild(docLink);\n",
              "      }\n",
              "    </script>\n",
              "  </div>\n",
              "\n",
              "\n",
              "<div id=\"df-56e42c04-12cc-4a13-9941-9849ee3e0177\">\n",
              "  <button class=\"colab-df-quickchart\" onclick=\"quickchart('df-56e42c04-12cc-4a13-9941-9849ee3e0177')\"\n",
              "            title=\"Suggest charts\"\n",
              "            style=\"display:none;\">\n",
              "\n",
              "<svg xmlns=\"http://www.w3.org/2000/svg\" height=\"24px\"viewBox=\"0 0 24 24\"\n",
              "     width=\"24px\">\n",
              "    <g>\n",
              "        <path d=\"M19 3H5c-1.1 0-2 .9-2 2v14c0 1.1.9 2 2 2h14c1.1 0 2-.9 2-2V5c0-1.1-.9-2-2-2zM9 17H7v-7h2v7zm4 0h-2V7h2v10zm4 0h-2v-4h2v4z\"/>\n",
              "    </g>\n",
              "</svg>\n",
              "  </button>\n",
              "\n",
              "<style>\n",
              "  .colab-df-quickchart {\n",
              "      --bg-color: #E8F0FE;\n",
              "      --fill-color: #1967D2;\n",
              "      --hover-bg-color: #E2EBFA;\n",
              "      --hover-fill-color: #174EA6;\n",
              "      --disabled-fill-color: #AAA;\n",
              "      --disabled-bg-color: #DDD;\n",
              "  }\n",
              "\n",
              "  [theme=dark] .colab-df-quickchart {\n",
              "      --bg-color: #3B4455;\n",
              "      --fill-color: #D2E3FC;\n",
              "      --hover-bg-color: #434B5C;\n",
              "      --hover-fill-color: #FFFFFF;\n",
              "      --disabled-bg-color: #3B4455;\n",
              "      --disabled-fill-color: #666;\n",
              "  }\n",
              "\n",
              "  .colab-df-quickchart {\n",
              "    background-color: var(--bg-color);\n",
              "    border: none;\n",
              "    border-radius: 50%;\n",
              "    cursor: pointer;\n",
              "    display: none;\n",
              "    fill: var(--fill-color);\n",
              "    height: 32px;\n",
              "    padding: 0;\n",
              "    width: 32px;\n",
              "  }\n",
              "\n",
              "  .colab-df-quickchart:hover {\n",
              "    background-color: var(--hover-bg-color);\n",
              "    box-shadow: 0 1px 2px rgba(60, 64, 67, 0.3), 0 1px 3px 1px rgba(60, 64, 67, 0.15);\n",
              "    fill: var(--button-hover-fill-color);\n",
              "  }\n",
              "\n",
              "  .colab-df-quickchart-complete:disabled,\n",
              "  .colab-df-quickchart-complete:disabled:hover {\n",
              "    background-color: var(--disabled-bg-color);\n",
              "    fill: var(--disabled-fill-color);\n",
              "    box-shadow: none;\n",
              "  }\n",
              "\n",
              "  .colab-df-spinner {\n",
              "    border: 2px solid var(--fill-color);\n",
              "    border-color: transparent;\n",
              "    border-bottom-color: var(--fill-color);\n",
              "    animation:\n",
              "      spin 1s steps(1) infinite;\n",
              "  }\n",
              "\n",
              "  @keyframes spin {\n",
              "    0% {\n",
              "      border-color: transparent;\n",
              "      border-bottom-color: var(--fill-color);\n",
              "      border-left-color: var(--fill-color);\n",
              "    }\n",
              "    20% {\n",
              "      border-color: transparent;\n",
              "      border-left-color: var(--fill-color);\n",
              "      border-top-color: var(--fill-color);\n",
              "    }\n",
              "    30% {\n",
              "      border-color: transparent;\n",
              "      border-left-color: var(--fill-color);\n",
              "      border-top-color: var(--fill-color);\n",
              "      border-right-color: var(--fill-color);\n",
              "    }\n",
              "    40% {\n",
              "      border-color: transparent;\n",
              "      border-right-color: var(--fill-color);\n",
              "      border-top-color: var(--fill-color);\n",
              "    }\n",
              "    60% {\n",
              "      border-color: transparent;\n",
              "      border-right-color: var(--fill-color);\n",
              "    }\n",
              "    80% {\n",
              "      border-color: transparent;\n",
              "      border-right-color: var(--fill-color);\n",
              "      border-bottom-color: var(--fill-color);\n",
              "    }\n",
              "    90% {\n",
              "      border-color: transparent;\n",
              "      border-bottom-color: var(--fill-color);\n",
              "    }\n",
              "  }\n",
              "</style>\n",
              "\n",
              "  <script>\n",
              "    async function quickchart(key) {\n",
              "      const quickchartButtonEl =\n",
              "        document.querySelector('#' + key + ' button');\n",
              "      quickchartButtonEl.disabled = true;  // To prevent multiple clicks.\n",
              "      quickchartButtonEl.classList.add('colab-df-spinner');\n",
              "      try {\n",
              "        const charts = await google.colab.kernel.invokeFunction(\n",
              "            'suggestCharts', [key], {});\n",
              "      } catch (error) {\n",
              "        console.error('Error during call to suggestCharts:', error);\n",
              "      }\n",
              "      quickchartButtonEl.classList.remove('colab-df-spinner');\n",
              "      quickchartButtonEl.classList.add('colab-df-quickchart-complete');\n",
              "    }\n",
              "    (() => {\n",
              "      let quickchartButtonEl =\n",
              "        document.querySelector('#df-56e42c04-12cc-4a13-9941-9849ee3e0177 button');\n",
              "      quickchartButtonEl.style.display =\n",
              "        google.colab.kernel.accessAllowed ? 'block' : 'none';\n",
              "    })();\n",
              "  </script>\n",
              "</div>\n",
              "\n",
              "    </div>\n",
              "  </div>\n"
            ],
            "application/vnd.google.colaboratory.intrinsic+json": {
              "type": "dataframe",
              "variable_name": "df",
              "summary": "{\n  \"name\": \"df\",\n  \"rows\": 4238,\n  \"fields\": [\n    {\n      \"column\": \"male\",\n      \"properties\": {\n        \"dtype\": \"number\",\n        \"std\": 0,\n        \"min\": 0,\n        \"max\": 1,\n        \"num_unique_values\": 2,\n        \"samples\": [\n          0,\n          1\n        ],\n        \"semantic_type\": \"\",\n        \"description\": \"\"\n      }\n    },\n    {\n      \"column\": \"age\",\n      \"properties\": {\n        \"dtype\": \"number\",\n        \"std\": 8,\n        \"min\": 32,\n        \"max\": 70,\n        \"num_unique_values\": 39,\n        \"samples\": [\n          34,\n          70\n        ],\n        \"semantic_type\": \"\",\n        \"description\": \"\"\n      }\n    },\n    {\n      \"column\": \"education\",\n      \"properties\": {\n        \"dtype\": \"number\",\n        \"std\": 1.019790689312203,\n        \"min\": 1.0,\n        \"max\": 4.0,\n        \"num_unique_values\": 4,\n        \"samples\": [\n          2.0,\n          3.0\n        ],\n        \"semantic_type\": \"\",\n        \"description\": \"\"\n      }\n    },\n    {\n      \"column\": \"currentSmoker\",\n      \"properties\": {\n        \"dtype\": \"number\",\n        \"std\": 0,\n        \"min\": 0,\n        \"max\": 1,\n        \"num_unique_values\": 2,\n        \"samples\": [\n          1,\n          0\n        ],\n        \"semantic_type\": \"\",\n        \"description\": \"\"\n      }\n    },\n    {\n      \"column\": \"cigsPerDay\",\n      \"properties\": {\n        \"dtype\": \"number\",\n        \"std\": 11.92009358782776,\n        \"min\": 0.0,\n        \"max\": 70.0,\n        \"num_unique_values\": 33,\n        \"samples\": [\n          19.0,\n          4.0\n        ],\n        \"semantic_type\": \"\",\n        \"description\": \"\"\n      }\n    },\n    {\n      \"column\": \"BPMeds\",\n      \"properties\": {\n        \"dtype\": \"number\",\n        \"std\": 0.16958356790200033,\n        \"min\": 0.0,\n        \"max\": 1.0,\n        \"num_unique_values\": 2,\n        \"samples\": [\n          1.0,\n          0.0\n        ],\n        \"semantic_type\": \"\",\n        \"description\": \"\"\n      }\n    },\n    {\n      \"column\": \"prevalentStroke\",\n      \"properties\": {\n        \"dtype\": \"number\",\n        \"std\": 0,\n        \"min\": 0,\n        \"max\": 1,\n        \"num_unique_values\": 2,\n        \"samples\": [\n          1,\n          0\n        ],\n        \"semantic_type\": \"\",\n        \"description\": \"\"\n      }\n    },\n    {\n      \"column\": \"prevalentHyp\",\n      \"properties\": {\n        \"dtype\": \"number\",\n        \"std\": 0,\n        \"min\": 0,\n        \"max\": 1,\n        \"num_unique_values\": 2,\n        \"samples\": [\n          1,\n          0\n        ],\n        \"semantic_type\": \"\",\n        \"description\": \"\"\n      }\n    },\n    {\n      \"column\": \"diabetes\",\n      \"properties\": {\n        \"dtype\": \"number\",\n        \"std\": 0,\n        \"min\": 0,\n        \"max\": 1,\n        \"num_unique_values\": 2,\n        \"samples\": [\n          1,\n          0\n        ],\n        \"semantic_type\": \"\",\n        \"description\": \"\"\n      }\n    },\n    {\n      \"column\": \"totChol\",\n      \"properties\": {\n        \"dtype\": \"number\",\n        \"std\": 44.590334318749456,\n        \"min\": 107.0,\n        \"max\": 696.0,\n        \"num_unique_values\": 248,\n        \"samples\": [\n          311.0,\n          205.0\n        ],\n        \"semantic_type\": \"\",\n        \"description\": \"\"\n      }\n    },\n    {\n      \"column\": \"sysBP\",\n      \"properties\": {\n        \"dtype\": \"number\",\n        \"std\": 22.038096643544584,\n        \"min\": 83.5,\n        \"max\": 295.0,\n        \"num_unique_values\": 234,\n        \"samples\": [\n          109.0,\n          184.5\n        ],\n        \"semantic_type\": \"\",\n        \"description\": \"\"\n      }\n    },\n    {\n      \"column\": \"diaBP\",\n      \"properties\": {\n        \"dtype\": \"number\",\n        \"std\": 11.9108496002255,\n        \"min\": 48.0,\n        \"max\": 142.5,\n        \"num_unique_values\": 146,\n        \"samples\": [\n          106.0,\n          108.5\n        ],\n        \"semantic_type\": \"\",\n        \"description\": \"\"\n      }\n    },\n    {\n      \"column\": \"BMI\",\n      \"properties\": {\n        \"dtype\": \"number\",\n        \"std\": 4.080111062409028,\n        \"min\": 15.54,\n        \"max\": 56.8,\n        \"num_unique_values\": 1363,\n        \"samples\": [\n          24.56,\n          19.87\n        ],\n        \"semantic_type\": \"\",\n        \"description\": \"\"\n      }\n    },\n    {\n      \"column\": \"heartRate\",\n      \"properties\": {\n        \"dtype\": \"number\",\n        \"std\": 12.0265963516126,\n        \"min\": 44.0,\n        \"max\": 143.0,\n        \"num_unique_values\": 73,\n        \"samples\": [\n          85.0,\n          47.0\n        ],\n        \"semantic_type\": \"\",\n        \"description\": \"\"\n      }\n    },\n    {\n      \"column\": \"glucose\",\n      \"properties\": {\n        \"dtype\": \"number\",\n        \"std\": 23.959998189237478,\n        \"min\": 40.0,\n        \"max\": 394.0,\n        \"num_unique_values\": 143,\n        \"samples\": [\n          394.0,\n          74.0\n        ],\n        \"semantic_type\": \"\",\n        \"description\": \"\"\n      }\n    },\n    {\n      \"column\": \"TenYearCHD\",\n      \"properties\": {\n        \"dtype\": \"number\",\n        \"std\": 0,\n        \"min\": 0,\n        \"max\": 1,\n        \"num_unique_values\": 2,\n        \"samples\": [\n          1,\n          0\n        ],\n        \"semantic_type\": \"\",\n        \"description\": \"\"\n      }\n    }\n  ]\n}"
            }
          },
          "metadata": {},
          "execution_count": 4
        }
      ]
    },
    {
      "cell_type": "code",
      "source": [],
      "metadata": {
        "id": "aKJ8YmBSEIE_"
      },
      "execution_count": null,
      "outputs": []
    },
    {
      "cell_type": "code",
      "source": [
        "row,col = df.shape"
      ],
      "metadata": {
        "id": "kNt4d1A4C1O4"
      },
      "execution_count": 5,
      "outputs": []
    },
    {
      "cell_type": "code",
      "source": [
        "for column in df:\n",
        "  df[column].fillna(value=df[column].mean(), inplace=True)"
      ],
      "metadata": {
        "id": "1XIvpXV6EJ6m"
      },
      "execution_count": 6,
      "outputs": []
    },
    {
      "cell_type": "code",
      "source": [
        "data = df.to_numpy()"
      ],
      "metadata": {
        "id": "zwSMmcEOAqPv"
      },
      "execution_count": 7,
      "outputs": []
    },
    {
      "cell_type": "code",
      "source": [
        "data[:,-1]"
      ],
      "metadata": {
        "colab": {
          "base_uri": "https://localhost:8080/"
        },
        "id": "B5fPvpvRBA3t",
        "outputId": "c7df4b70-0be3-4dc9-c25d-f984c2b1d5f5"
      },
      "execution_count": 8,
      "outputs": [
        {
          "output_type": "execute_result",
          "data": {
            "text/plain": [
              "array([0., 0., 0., ..., 0., 0., 0.])"
            ]
          },
          "metadata": {},
          "execution_count": 8
        }
      ]
    },
    {
      "cell_type": "code",
      "source": [
        "mean =np.zeros((1,16))\n",
        "sd=np.zeros((1,16))\n",
        "for i in range(0,16):\n",
        "    mean[0,i]= np.mean(data[:,i])\n",
        "    sd[0,i]=np.std(data[:,i])\n",
        "data_array_norm = (data - mean)/sd\n",
        "\n",
        "print(data_array_norm.shape)"
      ],
      "metadata": {
        "colab": {
          "base_uri": "https://localhost:8080/"
        },
        "id": "k3oCHJVW_DEd",
        "outputId": "d18696cb-5662-49cc-d419-171c01af2c81"
      },
      "execution_count": 9,
      "outputs": [
        {
          "output_type": "stream",
          "name": "stdout",
          "text": [
            "(4238, 16)\n"
          ]
        }
      ]
    },
    {
      "cell_type": "code",
      "source": [
        "labels = data_array_norm[:,-1]\n",
        "x_array = data_array_norm[:,:col-1]\n",
        "x_train, x_test, y_train, y_test = train_test_split(x_array,labels,test_size=0.15,random_state=42,shuffle=True)    # splitting data into test and train set.\n",
        "\n",
        "print(x_train.shape,x_test.shape,y_train.shape,y_test.shape)"
      ],
      "metadata": {
        "colab": {
          "base_uri": "https://localhost:8080/"
        },
        "id": "H2WlcaM3BbZW",
        "outputId": "34d243bf-e3a0-4bc1-c4e8-d05abdcc28c6"
      },
      "execution_count": 10,
      "outputs": [
        {
          "output_type": "stream",
          "name": "stdout",
          "text": [
            "(3602, 15) (636, 15) (3602,) (636,)\n"
          ]
        }
      ]
    },
    {
      "cell_type": "code",
      "source": [
        "x_train"
      ],
      "metadata": {
        "colab": {
          "base_uri": "https://localhost:8080/"
        },
        "id": "PvDUS2ls8ERF",
        "outputId": "6362adf9-d347-4fa8-c8ed-b4ee6e1ad5f4"
      },
      "execution_count": 11,
      "outputs": [
        {
          "output_type": "execute_result",
          "data": {
            "text/plain": [
              "array([[-0.86715836, -1.23495068,  0.02090466, ..., -0.24862167,\n",
              "        -0.65527962,  0.48319571],\n",
              "       [-0.86715836, -0.18491638, -0.97218687, ..., -0.59993225,\n",
              "         0.84175647, -0.08613301],\n",
              "       [-0.86715836, -1.23495068, -0.97218687, ..., -1.25341909,\n",
              "        -0.7384483 ,  0.13283958],\n",
              "       ...,\n",
              "       [-0.86715836,  1.21512937,  0.02090466, ..., -0.17492014,\n",
              "         0.59225045, -0.04233849],\n",
              "       [ 1.1531919 , -1.23495068,  0.02090466, ..., -0.31986647,\n",
              "        -0.65527962, -0.87443431],\n",
              "       [-0.86715836, -1.7016326 ,  0.02090466, ..., -1.26815939,\n",
              "         1.17443115, -0.08613301]])"
            ]
          },
          "metadata": {},
          "execution_count": 11
        }
      ]
    },
    {
      "cell_type": "code",
      "source": [
        "x_test"
      ],
      "metadata": {
        "colab": {
          "base_uri": "https://localhost:8080/"
        },
        "id": "jQs90cB-8xeQ",
        "outputId": "fb371eff-6ff4-4611-dc50-14485b4ecdb3"
      },
      "execution_count": 12,
      "outputs": [
        {
          "output_type": "execute_result",
          "data": {
            "text/plain": [
              "array([[ 1.1531919 ,  1.5651408 , -0.97218687, ...,  0.32625021,\n",
              "        -0.32260494,  0.17663409],\n",
              "       [ 1.1531919 , -0.53492781,  1.01399619, ...,  0.53507119,\n",
              "         0.75858779,  0.04525054],\n",
              "       [-0.86715836,  0.16509506, -0.97218687, ..., -1.36642809,\n",
              "        -0.07309892,  0.61457926],\n",
              "       ...,\n",
              "       [ 1.1531919 , -0.18491638,  2.00708772, ...,  0.10268892,\n",
              "        -0.57211095,  0.74596281],\n",
              "       [ 1.1531919 ,  1.21512937,  0.        , ..., -1.53839831,\n",
              "        -0.98795431, -0.39269463],\n",
              "       [ 1.1531919 ,  0.28176554, -0.97218687, ..., -0.2387948 ,\n",
              "         0.01006975, -0.08613301]])"
            ]
          },
          "metadata": {},
          "execution_count": 12
        }
      ]
    },
    {
      "cell_type": "code",
      "source": [
        "y_train.any()"
      ],
      "metadata": {
        "colab": {
          "base_uri": "https://localhost:8080/"
        },
        "id": "-GgNCeIh8GQn",
        "outputId": "9728e303-c3ca-48c0-b826-cad33ee1d718"
      },
      "execution_count": 13,
      "outputs": [
        {
          "output_type": "execute_result",
          "data": {
            "text/plain": [
              "True"
            ]
          },
          "metadata": {},
          "execution_count": 13
        }
      ]
    },
    {
      "cell_type": "code",
      "source": [
        "def sigmoid(x):\n",
        "        return 1 / (1 + np.exp(-x))"
      ],
      "metadata": {
        "id": "tuU3Wvq249qI"
      },
      "execution_count": 14,
      "outputs": []
    },
    {
      "cell_type": "code",
      "source": [
        "def loss( y_true, y_pred):\n",
        "        # binary cross entropy\n",
        "        epsilon = 1e-9\n",
        "        y1 = y_true * np.log(y_pred + epsilon)\n",
        "        y2 = (1-y_true) * np.log(1 - y_pred + epsilon)\n",
        "        return -np.mean(y1 + y2)\n"
      ],
      "metadata": {
        "id": "-sWAAJbE3JDa"
      },
      "execution_count": 15,
      "outputs": []
    },
    {
      "cell_type": "code",
      "source": [
        "def y(x,a,b):\n",
        "\n",
        "  m,n = x.shape\n",
        "  y_pred = np.dot(x,a)+b\n",
        "\n",
        "  assert(y_pred.shape == (m,))\n",
        "  return y_pred"
      ],
      "metadata": {
        "id": "qLyXh4933mi0"
      },
      "execution_count": 16,
      "outputs": []
    },
    {
      "cell_type": "code",
      "source": [
        "def gradient(x,a,b,y_true):\n",
        "\n",
        "  m,n = x.shape\n",
        "  yp = sigmoid(y(x,a,b))\n",
        "\n",
        "  da = np.dot(x.T,yp-y_true)/m              # write code to calculate derivative of loss with respect to a\n",
        "  db = np.sum(yp-y_true)/m              # write code to calculate derivative of loss with respect to b\n",
        "\n",
        "  assert(da.shape ==(n,))\n",
        "  return (da,db)"
      ],
      "metadata": {
        "id": "S5XRaWP13p4W"
      },
      "execution_count": 17,
      "outputs": []
    },
    {
      "cell_type": "code",
      "source": [
        "def gradient_descent(x,y_true,learning_rate=0.01,epochs = 10):\n",
        "  \"\"\"\n",
        "  This function perfroms gradient descent and minimizes loss\n",
        "  input:\n",
        "  x: [array] the feature vector of shape (m,n)\n",
        "  y_true: [array] ground truth of shape (m,)\n",
        "\n",
        "  output:\n",
        "  loss: [array] of size (epochs,)\n",
        "  weights: [tuple] (a,b)\n",
        "  \"\"\"\n",
        "  m,n = x.shape\n",
        "  loss_mse = []                                 # initialize empty list to store loss\n",
        "  a = np.random.rand(n,)                                      # initialize a- weights and b- bias\n",
        "  b = 2\n",
        "\n",
        "  for i in range(epochs):\n",
        "    # calculate derivative using gradient() function\n",
        "    # apply gradient descent now to update a and b\n",
        "    yp = sigmoid(y(x,a,b))\n",
        "    l_mse = loss(y_true,yp)                               # calculate loss at this point\n",
        "    loss_mse.append(l_mse)\n",
        "    da,db = gradient(x,a,b,y_true)\n",
        "    #print(\"yp= \",yp)\n",
        "    #print(\"y=\",y_true)\n",
        "    print(\"Epoch \",i+1,\" Completed!\",\"loss = \",l_mse)\n",
        "    a =a-da*learning_rate\n",
        "    b=b-db*learning_rate\n",
        "  print(\"Training completed!!\")\n",
        "\n",
        "  assert(a.shape==(n,))\n",
        "\n",
        "  return (loss_mse,a,b)"
      ],
      "metadata": {
        "id": "wlKHiAec4A6F"
      },
      "execution_count": 18,
      "outputs": []
    },
    {
      "cell_type": "code",
      "source": [
        "aa = np.random.rand(15,)                                      # initialize a- weights and b- bias\n",
        "bb = 2\n",
        "yp = sigmoid(y(x_train,aa,bb))\n",
        "epsilon = 1e-9\n",
        "y1 = y_train * np.log(yp + epsilon)\n",
        "y2 = (1-y_train) * np.log(1 - yp + epsilon)\n",
        "loss(y_train,yp)"
      ],
      "metadata": {
        "colab": {
          "base_uri": "https://localhost:8080/"
        },
        "id": "1EUr-R7EA3hx",
        "outputId": "2f30c494-bd12-4f36-c30a-ab922f2fd2ab"
      },
      "execution_count": 19,
      "outputs": [
        {
          "output_type": "execute_result",
          "data": {
            "text/plain": [
              "1.7990215044489013"
            ]
          },
          "metadata": {},
          "execution_count": 19
        }
      ]
    },
    {
      "cell_type": "code",
      "source": [
        "epochs = 100              # tweak this!!!\n",
        "learn_rate = 0.065       # choose learning rate wisely otherwise loss may diverge!!\n",
        "\n",
        "train_loss,a,b = gradient_descent(x_train,y_train,learn_rate,epochs)"
      ],
      "metadata": {
        "colab": {
          "base_uri": "https://localhost:8080/"
        },
        "id": "dHvXCYxZ4Y37",
        "outputId": "0ba633b8-34d5-48d4-d1a1-ee0d58272e53"
      },
      "execution_count": 20,
      "outputs": [
        {
          "output_type": "stream",
          "name": "stdout",
          "text": [
            "Epoch  1  Completed! loss =  1.8065365126715924\n",
            "Epoch  2  Completed! loss =  1.7702511658429754\n",
            "Epoch  3  Completed! loss =  1.7345309618390832\n",
            "Epoch  4  Completed! loss =  1.6993668461358533\n",
            "Epoch  5  Completed! loss =  1.6647499133249524\n",
            "Epoch  6  Completed! loss =  1.6306714114547487\n",
            "Epoch  7  Completed! loss =  1.5971227455893\n",
            "Epoch  8  Completed! loss =  1.564095480578964\n",
            "Epoch  9  Completed! loss =  1.5315813430373715\n",
            "Epoch  10  Completed! loss =  1.4995722229938173\n",
            "Epoch  11  Completed! loss =  1.4680601745252988\n",
            "Epoch  12  Completed! loss =  1.437037416251782\n",
            "Epoch  13  Completed! loss =  1.406496331044719\n",
            "Epoch  14  Completed! loss =  1.3764294656937772\n",
            "Epoch  15  Completed! loss =  1.3468295295621193\n",
            "Epoch  16  Completed! loss =  1.3176893936556755\n",
            "Epoch  17  Completed! loss =  1.2890020883395776\n",
            "Epoch  18  Completed! loss =  1.2607608018239238\n",
            "Epoch  19  Completed! loss =  1.2329588773864502\n",
            "Epoch  20  Completed! loss =  1.2055898108821277\n",
            "Epoch  21  Completed! loss =  1.1786472477776886\n",
            "Epoch  22  Completed! loss =  1.1521249800229714\n",
            "Epoch  23  Completed! loss =  1.1260169423673025\n",
            "Epoch  24  Completed! loss =  1.1003172089323972\n",
            "Epoch  25  Completed! loss =  1.0750199893275907\n",
            "Epoch  26  Completed! loss =  1.0501196243367958\n",
            "Epoch  27  Completed! loss =  1.0256105818174763\n",
            "Epoch  28  Completed! loss =  1.001487452229026\n",
            "Epoch  29  Completed! loss =  0.9777449439908403\n",
            "Epoch  30  Completed! loss =  0.9543778787006335\n",
            "Epoch  31  Completed! loss =  0.9313811864240215\n",
            "Epoch  32  Completed! loss =  0.9087499005462696\n",
            "Epoch  33  Completed! loss =  0.8864791527407874\n",
            "Epoch  34  Completed! loss =  0.8645641679254885\n",
            "Epoch  35  Completed! loss =  0.8430002590286173\n",
            "Epoch  36  Completed! loss =  0.8217828218309149\n",
            "Epoch  37  Completed! loss =  0.8009073297539661\n",
            "Epoch  38  Completed! loss =  0.7803693285923499\n",
            "Epoch  39  Completed! loss =  0.7601644314825626\n",
            "Epoch  40  Completed! loss =  0.7402883138037483\n",
            "Epoch  41  Completed! loss =  0.720736708171912\n",
            "Epoch  42  Completed! loss =  0.701505399525996\n",
            "Epoch  43  Completed! loss =  0.6825902203200689\n",
            "Epoch  44  Completed! loss =  0.6639870462188943\n",
            "Epoch  45  Completed! loss =  0.6456917912335031\n",
            "Epoch  46  Completed! loss =  0.6277004037111907\n",
            "Epoch  47  Completed! loss =  0.6100088624293081\n",
            "Epoch  48  Completed! loss =  0.5926131725838503\n",
            "Epoch  49  Completed! loss =  0.5755093621460146\n",
            "Epoch  50  Completed! loss =  0.5586934789678254\n",
            "Epoch  51  Completed! loss =  0.5421615872623381\n",
            "Epoch  52  Completed! loss =  0.5259097651364033\n",
            "Epoch  53  Completed! loss =  0.5099341019988909\n",
            "Epoch  54  Completed! loss =  0.4942306963637938\n",
            "Epoch  55  Completed! loss =  0.4787956541427142\n",
            "Epoch  56  Completed! loss =  0.46362508663729873\n",
            "Epoch  57  Completed! loss =  0.44871510966688705\n",
            "Epoch  58  Completed! loss =  0.43406184225648775\n",
            "Epoch  59  Completed! loss =  0.41966140607799524\n",
            "Epoch  60  Completed! loss =  0.4055099248748911\n",
            "Epoch  61  Completed! loss =  0.39160352433923795\n",
            "Epoch  62  Completed! loss =  0.37793833215836536\n",
            "Epoch  63  Completed! loss =  0.36451047841381234\n",
            "Epoch  64  Completed! loss =  0.35131609605503306\n",
            "Epoch  65  Completed! loss =  0.3383513215881573\n",
            "Epoch  66  Completed! loss =  0.3256122963940668\n",
            "Epoch  67  Completed! loss =  0.3130951674215861\n",
            "Epoch  68  Completed! loss =  0.3007960890137755\n",
            "Epoch  69  Completed! loss =  0.28871122394167775\n",
            "Epoch  70  Completed! loss =  0.2768367454349231\n",
            "Epoch  71  Completed! loss =  0.26516883865631447\n",
            "Epoch  72  Completed! loss =  0.25370370259970004\n",
            "Epoch  73  Completed! loss =  0.2424375521023343\n",
            "Epoch  74  Completed! loss =  0.23136661974341372\n",
            "Epoch  75  Completed! loss =  0.22048715788335682\n",
            "Epoch  76  Completed! loss =  0.20979544075355522\n",
            "Epoch  77  Completed! loss =  0.19928776658889047\n",
            "Epoch  78  Completed! loss =  0.18896045954465043\n",
            "Epoch  79  Completed! loss =  0.1788098718839335\n",
            "Epoch  80  Completed! loss =  0.16883238599041556\n",
            "Epoch  81  Completed! loss =  0.15902441637974785\n",
            "Epoch  82  Completed! loss =  0.14938241159092225\n",
            "Epoch  83  Completed! loss =  0.13990285605927616\n",
            "Epoch  84  Completed! loss =  0.13058227199756872\n",
            "Epoch  85  Completed! loss =  0.12141722113757593\n",
            "Epoch  86  Completed! loss =  0.11240430625934025\n",
            "Epoch  87  Completed! loss =  0.10354017294036519\n",
            "Epoch  88  Completed! loss =  0.09482151079586632\n",
            "Epoch  89  Completed! loss =  0.08624505507306508\n",
            "Epoch  90  Completed! loss =  0.07780758776276196\n",
            "Epoch  91  Completed! loss =  0.0695059387701325\n",
            "Epoch  92  Completed! loss =  0.06133698708361511\n",
            "Epoch  93  Completed! loss =  0.05329766158261907\n",
            "Epoch  94  Completed! loss =  0.04538494196977926\n",
            "Epoch  95  Completed! loss =  0.037595859464303216\n",
            "Epoch  96  Completed! loss =  0.029927497464427633\n",
            "Epoch  97  Completed! loss =  0.02237699209801563\n",
            "Epoch  98  Completed! loss =  0.01494153254570057\n",
            "Epoch  99  Completed! loss =  0.007618361563259354\n",
            "Epoch  100  Completed! loss =  0.00040477551512233586\n",
            "Training completed!!\n"
          ]
        }
      ]
    },
    {
      "cell_type": "code",
      "source": [
        "A = np.reshape(a,(15,1))"
      ],
      "metadata": {
        "id": "UWk_b9p1FXhc"
      },
      "execution_count": 21,
      "outputs": []
    },
    {
      "cell_type": "code",
      "source": [
        "import math"
      ],
      "metadata": {
        "id": "dTc7J9yGS_JI"
      },
      "execution_count": 22,
      "outputs": []
    },
    {
      "cell_type": "code",
      "source": [
        "mean[0:14]"
      ],
      "metadata": {
        "colab": {
          "base_uri": "https://localhost:8080/"
        },
        "id": "hnhAjnHkV6g1",
        "outputId": "ca585ba0-3bd4-47e1-c1d1-74e1f32236f8"
      },
      "execution_count": 23,
      "outputs": [
        {
          "output_type": "execute_result",
          "data": {
            "text/plain": [
              "array([[4.29211892e-01, 4.95849457e+01, 1.97894992e+00, 4.94100991e-01,\n",
              "        9.00308862e+00, 2.96296296e-02, 5.89900897e-03, 3.10523832e-01,\n",
              "        2.57196791e-02, 2.36721585e+02, 1.32352407e+02, 8.28934639e+01,\n",
              "        2.58020076e+01, 7.58789238e+01, 8.19667532e+01, 1.51958471e-01]])"
            ]
          },
          "metadata": {},
          "execution_count": 23
        }
      ]
    },
    {
      "cell_type": "code",
      "source": [
        "def predict(x):\n",
        "  threshold =0.5\n",
        "  X = (x-mean[0,0:15])/sd[0,0:15]\n",
        "  yp = np.dot(X,A)+b\n",
        "  #print(yp)\n",
        "  yp = sigmoid(yp)\n",
        "  res = yp.item()\n",
        "  return res\n"
      ],
      "metadata": {
        "id": "E9Kkr6CsCwTd"
      },
      "execution_count": 24,
      "outputs": []
    },
    {
      "cell_type": "code",
      "source": [
        "xrr = data[:,:col-1]"
      ],
      "metadata": {
        "id": "zZZ2UFOCDoWB"
      },
      "execution_count": 25,
      "outputs": []
    },
    {
      "cell_type": "code",
      "source": [
        "tesht = np.reshape(xrr[3800,:],(1,15))"
      ],
      "metadata": {
        "id": "eVdv69X1ERpp"
      },
      "execution_count": 26,
      "outputs": []
    },
    {
      "cell_type": "code",
      "source": [
        "tesht"
      ],
      "metadata": {
        "colab": {
          "base_uri": "https://localhost:8080/"
        },
        "id": "lZ6Azha_Trxe",
        "outputId": "db277c37-8d29-46b0-a484-427bacfaf0f4"
      },
      "execution_count": null,
      "outputs": [
        {
          "output_type": "execute_result",
          "data": {
            "text/plain": [
              "array([[  0.  ,  48.  ,   1.  ,   0.  ,   0.  ,   0.  ,   0.  ,   0.  ,\n",
              "          0.  , 274.  , 110.  ,  84.  ,  22.51, 110.  ,  78.  ]])"
            ]
          },
          "metadata": {},
          "execution_count": 197
        }
      ]
    },
    {
      "cell_type": "code",
      "source": [],
      "metadata": {
        "id": "ZsEWjt-ME2iU"
      },
      "execution_count": null,
      "outputs": []
    },
    {
      "cell_type": "code",
      "source": [
        "data.shape"
      ],
      "metadata": {
        "colab": {
          "base_uri": "https://localhost:8080/"
        },
        "id": "VrFZPSQYbk8z",
        "outputId": "53560964-451a-4023-e336-83f6ca558d54"
      },
      "execution_count": null,
      "outputs": [
        {
          "output_type": "execute_result",
          "data": {
            "text/plain": [
              "(4238, 16)"
            ]
          },
          "metadata": {},
          "execution_count": 198
        }
      ]
    },
    {
      "cell_type": "code",
      "source": [
        "thr=1\n",
        "ones =[]\n",
        "zeros=[]\n",
        "for i in range(0,4238):\n",
        "  x = predict(np.reshape(xrr[i,:],(1,15)))\n",
        "  if(data[i,15]==1):\n",
        "    ones.append(x)\n",
        "  else:\n",
        "    zeros.append(x)\n",
        "ones = np.array(ones)\n"
      ],
      "metadata": {
        "id": "erI4zeT0EaQC"
      },
      "execution_count": null,
      "outputs": []
    },
    {
      "cell_type": "code",
      "source": [
        "np.mean(ones)"
      ],
      "metadata": {
        "colab": {
          "base_uri": "https://localhost:8080/"
        },
        "id": "tmp4z9mCg5C6",
        "outputId": "6d704810-293d-44b5-df91-a7fe53261312"
      },
      "execution_count": null,
      "outputs": [
        {
          "output_type": "execute_result",
          "data": {
            "text/plain": [
              "0.5011090289009945"
            ]
          },
          "metadata": {},
          "execution_count": 200
        }
      ]
    },
    {
      "cell_type": "code",
      "source": [
        "zeros = np.array(zeros)\n",
        "np.mean(zeros)"
      ],
      "metadata": {
        "colab": {
          "base_uri": "https://localhost:8080/"
        },
        "id": "PWbAsB_1haWw",
        "outputId": "6e672ea6-2764-4e92-ab93-eecc817531e5"
      },
      "execution_count": null,
      "outputs": [
        {
          "output_type": "execute_result",
          "data": {
            "text/plain": [
              "0.2692702535503732"
            ]
          },
          "metadata": {},
          "execution_count": 201
        }
      ]
    },
    {
      "cell_type": "code",
      "source": [
        "np.std(ones)"
      ],
      "metadata": {
        "colab": {
          "base_uri": "https://localhost:8080/"
        },
        "id": "jLDKy72Dhf3u",
        "outputId": "98704e18-7e72-46c9-a2fc-6d3cd7af6ee9"
      },
      "execution_count": null,
      "outputs": [
        {
          "output_type": "execute_result",
          "data": {
            "text/plain": [
              "0.33005188048299483"
            ]
          },
          "metadata": {},
          "execution_count": 202
        }
      ]
    },
    {
      "cell_type": "code",
      "source": [
        "np.std(zeros)"
      ],
      "metadata": {
        "colab": {
          "base_uri": "https://localhost:8080/"
        },
        "id": "srqKJiNKhhip",
        "outputId": "f1b66f0b-57e1-41d8-803a-736620eb861a"
      },
      "execution_count": null,
      "outputs": [
        {
          "output_type": "execute_result",
          "data": {
            "text/plain": [
              "0.2799172563280056"
            ]
          },
          "metadata": {},
          "execution_count": 203
        }
      ]
    },
    {
      "cell_type": "code",
      "source": [
        "len(zeros)"
      ],
      "metadata": {
        "colab": {
          "base_uri": "https://localhost:8080/"
        },
        "id": "MnUIk0RpoS2y",
        "outputId": "16e4f073-c5ee-44c2-f50d-11c377067923"
      },
      "execution_count": null,
      "outputs": [
        {
          "output_type": "execute_result",
          "data": {
            "text/plain": [
              "3594"
            ]
          },
          "metadata": {},
          "execution_count": 245
        }
      ]
    },
    {
      "cell_type": "code",
      "source": [
        "right =0\n",
        "for i in range(0,4238):\n",
        "  x = predict(np.reshape(xrr[i,:],(1,15)))\n",
        "  if x>0.:\n",
        "    if(data[i,15]==1):\n",
        "      right = right+1\n",
        "\n",
        "  else:\n",
        "    if(data[i,15]==0):\n",
        "      right =right+1\n",
        "right"
      ],
      "metadata": {
        "colab": {
          "base_uri": "https://localhost:8080/"
        },
        "id": "sVufp_GmlBgm",
        "outputId": "4dce0c58-1474-4f4a-d48a-c5e4d14913d8"
      },
      "execution_count": null,
      "outputs": [
        {
          "output_type": "execute_result",
          "data": {
            "text/plain": [
              "3483"
            ]
          },
          "metadata": {},
          "execution_count": 249
        }
      ]
    }
  ]
}